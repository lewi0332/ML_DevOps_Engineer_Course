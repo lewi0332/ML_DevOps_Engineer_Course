{
 "cells": [
  {
   "cell_type": "code",
   "execution_count": 1,
   "metadata": {},
   "outputs": [],
   "source": [
    "import pandas as pd\n",
    "from sklearn.linear_model import LogisticRegression\n",
    "from sklearn.model_selection import train_test_split\n",
    "from sklearn.preprocessing import LabelBinarizer\n",
    "from sklearn.metrics import classification_report, f1_score"
   ]
  },
  {
   "cell_type": "code",
   "execution_count": 2,
   "metadata": {},
   "outputs": [],
   "source": [
    "data = pd.read_csv(\"Raisin_Dataset.csv\")\n",
    "y = data.pop(\"Class\")\n",
    "\n",
    "# Split the data into train and validation, stratifying on the target feature.\n",
    "X_train, X_val, y_train, y_val = train_test_split(data, y, stratify=y, random_state=42)"
   ]
  },
  {
   "cell_type": "code",
   "execution_count": 3,
   "metadata": {},
   "outputs": [
    {
     "data": {
      "text/html": [
       "<div>\n",
       "<style scoped>\n",
       "    .dataframe tbody tr th:only-of-type {\n",
       "        vertical-align: middle;\n",
       "    }\n",
       "\n",
       "    .dataframe tbody tr th {\n",
       "        vertical-align: top;\n",
       "    }\n",
       "\n",
       "    .dataframe thead th {\n",
       "        text-align: right;\n",
       "    }\n",
       "</style>\n",
       "<table border=\"1\" class=\"dataframe\">\n",
       "  <thead>\n",
       "    <tr style=\"text-align: right;\">\n",
       "      <th></th>\n",
       "      <th>Area</th>\n",
       "      <th>MajorAxisLength</th>\n",
       "      <th>MinorAxisLength</th>\n",
       "      <th>Eccentricity</th>\n",
       "      <th>ConvexArea</th>\n",
       "      <th>Extent</th>\n",
       "      <th>Perimeter</th>\n",
       "    </tr>\n",
       "  </thead>\n",
       "  <tbody>\n",
       "    <tr>\n",
       "      <th>count</th>\n",
       "      <td>675.000000</td>\n",
       "      <td>675.000000</td>\n",
       "      <td>675.000000</td>\n",
       "      <td>675.000000</td>\n",
       "      <td>675.000000</td>\n",
       "      <td>675.000000</td>\n",
       "      <td>675.000000</td>\n",
       "    </tr>\n",
       "    <tr>\n",
       "      <th>mean</th>\n",
       "      <td>88107.967407</td>\n",
       "      <td>433.058918</td>\n",
       "      <td>254.496053</td>\n",
       "      <td>0.783050</td>\n",
       "      <td>91554.672593</td>\n",
       "      <td>0.698341</td>\n",
       "      <td>1169.725927</td>\n",
       "    </tr>\n",
       "    <tr>\n",
       "      <th>std</th>\n",
       "      <td>38979.928482</td>\n",
       "      <td>117.734938</td>\n",
       "      <td>48.918447</td>\n",
       "      <td>0.090386</td>\n",
       "      <td>40916.098518</td>\n",
       "      <td>0.053885</td>\n",
       "      <td>275.942550</td>\n",
       "    </tr>\n",
       "    <tr>\n",
       "      <th>min</th>\n",
       "      <td>25387.000000</td>\n",
       "      <td>225.629541</td>\n",
       "      <td>143.710872</td>\n",
       "      <td>0.348730</td>\n",
       "      <td>26139.000000</td>\n",
       "      <td>0.379856</td>\n",
       "      <td>619.074000</td>\n",
       "    </tr>\n",
       "    <tr>\n",
       "      <th>25%</th>\n",
       "      <td>59691.500000</td>\n",
       "      <td>346.195020</td>\n",
       "      <td>220.469287</td>\n",
       "      <td>0.743461</td>\n",
       "      <td>61982.000000</td>\n",
       "      <td>0.671966</td>\n",
       "      <td>971.350500</td>\n",
       "    </tr>\n",
       "    <tr>\n",
       "      <th>50%</th>\n",
       "      <td>78883.000000</td>\n",
       "      <td>407.940329</td>\n",
       "      <td>248.500271</td>\n",
       "      <td>0.798953</td>\n",
       "      <td>81613.000000</td>\n",
       "      <td>0.706142</td>\n",
       "      <td>1120.963000</td>\n",
       "    </tr>\n",
       "    <tr>\n",
       "      <th>75%</th>\n",
       "      <td>105055.500000</td>\n",
       "      <td>494.211068</td>\n",
       "      <td>279.586959</td>\n",
       "      <td>0.845791</td>\n",
       "      <td>108543.000000</td>\n",
       "      <td>0.733834</td>\n",
       "      <td>1305.799500</td>\n",
       "    </tr>\n",
       "    <tr>\n",
       "      <th>max</th>\n",
       "      <td>235047.000000</td>\n",
       "      <td>997.291941</td>\n",
       "      <td>492.275279</td>\n",
       "      <td>0.962124</td>\n",
       "      <td>278217.000000</td>\n",
       "      <td>0.824319</td>\n",
       "      <td>2697.753000</td>\n",
       "    </tr>\n",
       "  </tbody>\n",
       "</table>\n",
       "</div>"
      ],
      "text/plain": [
       "                Area  MajorAxisLength  MinorAxisLength  Eccentricity  \\\n",
       "count     675.000000       675.000000       675.000000    675.000000   \n",
       "mean    88107.967407       433.058918       254.496053      0.783050   \n",
       "std     38979.928482       117.734938        48.918447      0.090386   \n",
       "min     25387.000000       225.629541       143.710872      0.348730   \n",
       "25%     59691.500000       346.195020       220.469287      0.743461   \n",
       "50%     78883.000000       407.940329       248.500271      0.798953   \n",
       "75%    105055.500000       494.211068       279.586959      0.845791   \n",
       "max    235047.000000       997.291941       492.275279      0.962124   \n",
       "\n",
       "          ConvexArea      Extent    Perimeter  \n",
       "count     675.000000  675.000000   675.000000  \n",
       "mean    91554.672593    0.698341  1169.725927  \n",
       "std     40916.098518    0.053885   275.942550  \n",
       "min     26139.000000    0.379856   619.074000  \n",
       "25%     61982.000000    0.671966   971.350500  \n",
       "50%     81613.000000    0.706142  1120.963000  \n",
       "75%    108543.000000    0.733834  1305.799500  \n",
       "max    278217.000000    0.824319  2697.753000  "
      ]
     },
     "execution_count": 3,
     "metadata": {},
     "output_type": "execute_result"
    }
   ],
   "source": [
    "# Get a high level overview of the data. This will be useful for slicing.\n",
    "X_train.describe()"
   ]
  },
  {
   "cell_type": "code",
   "execution_count": 4,
   "metadata": {},
   "outputs": [
    {
     "data": {
      "text/plain": [
       "LogisticRegression(max_iter=1000, random_state=23)"
      ]
     },
     "execution_count": 4,
     "metadata": {},
     "output_type": "execute_result"
    }
   ],
   "source": [
    "lr = LogisticRegression(max_iter=1000, random_state=23)\n",
    "lb = LabelBinarizer()\n",
    "\n",
    "# Binarize the target feature.\n",
    "y_train = lb.fit_transform(y_train)\n",
    "y_val = lb.transform(y_val)\n",
    "\n",
    "# Train Logistic Regression.\n",
    "lr.fit(X_train, y_train.ravel())"
   ]
  },
  {
   "cell_type": "markdown",
   "metadata": {},
   "source": [
    "# Solution Code"
   ]
  },
  {
   "cell_type": "code",
   "execution_count": 5,
   "metadata": {},
   "outputs": [
    {
     "name": "stdout",
     "output_type": "stream",
     "text": [
      "              precision    recall  f1-score   support\n",
      "\n",
      "           0       0.90      0.86      0.88       112\n",
      "           1       0.86      0.90      0.88       113\n",
      "\n",
      "    accuracy                           0.88       225\n",
      "   macro avg       0.88      0.88      0.88       225\n",
      "weighted avg       0.88      0.88      0.88       225\n",
      "\n"
     ]
    }
   ],
   "source": [
    "# Use sklearn's classification report to get an overall view of our classifier.\n",
    "print(classification_report(y_val, lr.predict(X_val)))"
   ]
  },
  {
   "cell_type": "code",
   "execution_count": 6,
   "metadata": {},
   "outputs": [
    {
     "name": "stdout",
     "output_type": "stream",
     "text": [
      "F1 score on MajorAxisLength slices:\n",
      "0.0\n",
      "0.9230769230769231\n",
      "\n",
      "F1 score on MinorAxisLength slices:\n",
      "0.65\n",
      "0.9319371727748692\n",
      "\n",
      "F1 score on ConvexArea slices:\n",
      "0.30769230769230765\n",
      "0.9174311926605505\n"
     ]
    }
   ],
   "source": [
    "print(\"F1 score on MajorAxisLength slices:\")\n",
    "row_slice = X_val[\"MajorAxisLength\"] >= 427.7\n",
    "print(f1_score(y_val[row_slice], lr.predict(X_val[row_slice])))\n",
    "\n",
    "row_slice = X_val[\"MajorAxisLength\"] < 427.7\n",
    "print(f1_score(y_val[row_slice], lr.predict(X_val[row_slice])))\n",
    "\n",
    "print(\"\\nF1 score on MinorAxisLength slices:\")\n",
    "row_slice = X_val[\"MinorAxisLength\"] >= 254.4\n",
    "print(f1_score(y_val[row_slice], lr.predict(X_val[row_slice])))\n",
    "\n",
    "row_slice = X_val[\"MinorAxisLength\"] < 254.4\n",
    "print(f1_score(y_val[row_slice], lr.predict(X_val[row_slice])))\n",
    "\n",
    "print(\"\\nF1 score on ConvexArea slices:\")\n",
    "row_slice = X_val[\"ConvexArea\"] >= 90407.3\n",
    "print(f1_score(y_val[row_slice], lr.predict(X_val[row_slice])))\n",
    "\n",
    "row_slice = X_val[\"ConvexArea\"] < 90407.3\n",
    "print(f1_score(y_val[row_slice], lr.predict(X_val[row_slice])))"
   ]
  },
  {
   "cell_type": "markdown",
   "metadata": {},
   "source": [
    "From the above slices, we see that our model seems to perform consistently better on raisins that are smaller than average versus ones that are larger than average.\n",
    "\n",
    "Looking at the summary statistics, we see that for nearly every measure the median is smaller than the mean. So more than 50% of our raisins are below the average which is also where our model is strongest. This indicates that we might want more data on larger raisins."
   ]
  },
  {
   "cell_type": "markdown",
   "metadata": {},
   "source": [
    "## Model Card\n",
    "\n",
    "### Model Details\n",
    "\n",
    "Logistic Regresion model using default scikit-learn hyperparameters. Trained with sklearn version 0.24.1.\n",
    "\n",
    "### Intended Use\n",
    "\n",
    "For classifying two types of raisins from Turkey.\n",
    "\n",
    "### Metrics\n",
    "\n",
    "F1 classification with a macro average of 0.85, 0.84 for the minority class, and 0.85 for the majority class.\n",
    "\n",
    "When analyzing across data slices, model performance is higher for raisins below the average size and much lower for raisins above the average.\n",
    "\n",
    "### Data\n",
    "\n",
    "Raisin dataset acquired from the UCI Machine Learning Repository: https://archive.ics.uci.edu/ml/datasets/Raisin+Dataset\n",
    "\n",
    "Originally from: Cinar I., Koklu M. and Tasdemir S., Classification of Raisin Grains Using Machine Vision and Artificial Intelligence Methods. Gazi Journal of Engineering Sciences, vol. 6, no. 3, pp. 200-209, December, 2020.\n",
    "\n",
    "### Bias\n",
    "\n",
    "The majority of raisins are below the average size. This could be a potential source of bias but more subject matter expertise may be necessary. Note to students: this is a useful call out, and in a real-world scenario should prompt you to engage in collaboration with subject matter experts so you can flesh this out."
   ]
  },
  {
   "cell_type": "code",
   "execution_count": null,
   "metadata": {},
   "outputs": [],
   "source": []
  }
 ],
 "metadata": {
  "kernelspec": {
   "display_name": "Python 3.10.8 ('mlops')",
   "language": "python",
   "name": "python3"
  },
  "language_info": {
   "codemirror_mode": {
    "name": "ipython",
    "version": 3
   },
   "file_extension": ".py",
   "mimetype": "text/x-python",
   "name": "python",
   "nbconvert_exporter": "python",
   "pygments_lexer": "ipython3",
   "version": "3.10.8"
  },
  "vscode": {
   "interpreter": {
    "hash": "c0df4a6b7cc5b2111550ae60050c38c89f8254b1daa9c1395c2fb354be160898"
   }
  }
 },
 "nbformat": 4,
 "nbformat_minor": 5
}
